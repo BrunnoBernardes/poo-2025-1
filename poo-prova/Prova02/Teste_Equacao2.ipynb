{
  "nbformat": 4,
  "nbformat_minor": 0,
  "metadata": {
    "colab": {
      "provenance": []
    },
    "kernelspec": {
      "name": "python3",
      "display_name": "Python 3"
    },
    "language_info": {
      "name": "python"
    }
  },
  "cells": [
    {
      "cell_type": "code",
      "source": [
        "%%writefile Equacao2Grau.py\n",
        "# Classe traduzida do Java para Python\n",
        "\n",
        "class Equacao2Grau:\n",
        "    def __init__(self, x: int, y: int):\n",
        "        self.x = x\n",
        "        self.y = y\n",
        "\n",
        "    def calcula_equacao1(self) -> int:\n",
        "        \"\"\"\n",
        "        Calcula: x² + y² + 2xy\n",
        "        \"\"\"\n",
        "        return self.x**2 + self.y**2 + 2 * self.x * self.y\n",
        "\n",
        "    def calcula_equacao2(self) -> int:\n",
        "        \"\"\"\n",
        "        Calcula: x² + y² - 2xy\n",
        "        \"\"\"\n",
        "        return self.x**2 + self.y**2 - 2 * self.x * self.y\n",
        "\n"
      ],
      "metadata": {
        "id": "NkZrZAlwCS26",
        "colab": {
          "base_uri": "https://localhost:8080/"
        },
        "outputId": "0c6afa8a-b053-4f78-dfb6-fef13979af44"
      },
      "execution_count": 11,
      "outputs": [
        {
          "output_type": "stream",
          "name": "stdout",
          "text": [
            "Overwriting Equacao2Grau.py\n"
          ]
        }
      ]
    },
    {
      "cell_type": "code",
      "source": [
        "%%writefile test_Equacao2Grau.py\n",
        "import unittest\n",
        "from Equacao2Grau import Equacao2Grau\n",
        "class Equacao2GrauTeste(unittest.TestCase):\n",
        "\n",
        "    def test1(self):\n",
        "        eq = Equacao2Grau(2, 2)\n",
        "        self.assertEqual(eq.calcula_equacao1(), 16)\n",
        "\n",
        "    def test2(self):\n",
        "        eq = Equacao2Grau(2, 2)\n",
        "        self.assertEqual(eq.calcula_equacao2(), 0)\n",
        "\n",
        "# Executar os testes no Colab\n",
        "unittest.main(argv=[''], exit=False, verbosity=2)\n",
        "\n",
        "\n"
      ],
      "metadata": {
        "colab": {
          "base_uri": "https://localhost:8080/"
        },
        "id": "cXCC_2tVG_jG",
        "outputId": "5b92f59e-4d34-4ae8-9e4f-02ae99e1605d"
      },
      "execution_count": 12,
      "outputs": [
        {
          "output_type": "stream",
          "name": "stdout",
          "text": [
            "Overwriting test_Equacao2Grau.py\n"
          ]
        }
      ]
    },
    {
      "cell_type": "code",
      "source": [
        "#Instalar o coverage\n",
        "!pip install coverage"
      ],
      "metadata": {
        "colab": {
          "base_uri": "https://localhost:8080/"
        },
        "id": "cJ8ZbhYCYvo7",
        "outputId": "02a00831-d438-499f-dac4-63a71c5b640a"
      },
      "execution_count": 13,
      "outputs": [
        {
          "output_type": "stream",
          "name": "stdout",
          "text": [
            "Requirement already satisfied: coverage in /usr/local/lib/python3.11/dist-packages (7.9.1)\n"
          ]
        }
      ]
    }
  ]
}