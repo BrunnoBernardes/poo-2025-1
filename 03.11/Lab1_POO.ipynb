{
  "nbformat": 4,
  "nbformat_minor": 0,
  "metadata": {
    "colab": {
      "provenance": []
    },
    "kernelspec": {
      "name": "python3",
      "display_name": "Python 3"
    },
    "language_info": {
      "name": "python"
    }
  },
  "cells": [
    {
      "cell_type": "code",
      "execution_count": null,
      "metadata": {
        "id": "W2DGpkZPwxhS"
      },
      "outputs": [],
      "source": []
    },
    {
      "cell_type": "markdown",
      "source": [
        "**Um exemplo de código estruurado em C**"
      ],
      "metadata": {
        "id": "avGJ318xw8RM"
      }
    },
    {
      "cell_type": "code",
      "source": [
        "#python\n",
        "!apt-get install -y build-essential"
      ],
      "metadata": {
        "colab": {
          "base_uri": "https://localhost:8080/"
        },
        "id": "dgVtL_fwyw_9",
        "outputId": "7fd28662-3325-457a-b1a5-d9a189450e51"
      },
      "execution_count": null,
      "outputs": [
        {
          "output_type": "stream",
          "name": "stdout",
          "text": [
            "Reading package lists... Done\n",
            "Building dependency tree... Done\n",
            "Reading state information... Done\n",
            "build-essential is already the newest version (12.9ubuntu3).\n",
            "0 upgraded, 0 newly installed, 0 to remove and 29 not upgraded.\n"
          ]
        }
      ]
    },
    {
      "cell_type": "code",
      "source": [
        "#python\n",
        "%%writefile bhaskara.c\n",
        "\n",
        "#include <stdio.h>\n",
        "#include <math.h>\n",
        "\n",
        "double calculaX1(double a, double b, double c) {\n",
        "   double delta = (b*b)-4*(a)*(c);\n",
        "   return (-b + sqrt(delta)) / (2*a);\n",
        "}\n",
        "\n",
        "double calculaX2(double a, double b, double c) {\n",
        "   double delta = (b*b)-4*(a)*(c);\n",
        "   return (-b - sqrt(delta)) / (2*a);\n",
        "}\n",
        "\n",
        "int main(int argc, char** argv)  {\n",
        "   double  a, b, c;\n",
        "\n",
        "   printf(\"X1 = %lf\", calculaX1(2, -5, -7));\n",
        "   printf(\"X2 = %lf\", calculaX2(2, -5, -7));\n",
        "   return 0;\n",
        "}\n"
      ],
      "metadata": {
        "colab": {
          "base_uri": "https://localhost:8080/"
        },
        "id": "FQy7AU2ExKmS",
        "outputId": "4884ec15-e857-425e-b514-a6f9a5134dd4"
      },
      "execution_count": null,
      "outputs": [
        {
          "output_type": "stream",
          "name": "stdout",
          "text": [
            "Overwriting bhaskara.c\n"
          ]
        }
      ]
    },
    {
      "cell_type": "code",
      "source": [
        "#python\n",
        "!gcc bhaskara.c -o bhaskara -lm"
      ],
      "metadata": {
        "id": "ZzarwPG8z28e"
      },
      "execution_count": null,
      "outputs": []
    },
    {
      "cell_type": "code",
      "source": [
        "#python\n",
        "!./bhaskara"
      ],
      "metadata": {
        "colab": {
          "base_uri": "https://localhost:8080/"
        },
        "id": "JM5-FZvG4R1k",
        "outputId": "0f5d97b1-a267-4ce9-b916-a1c36a59140c"
      },
      "execution_count": null,
      "outputs": [
        {
          "output_type": "stream",
          "name": "stdout",
          "text": [
            "X1 = 3.500000X2 = -1.000000"
          ]
        }
      ]
    },
    {
      "cell_type": "markdown",
      "source": [
        "# Nova seção"
      ],
      "metadata": {
        "id": "LCi5KzZ9FVRL"
      }
    },
    {
      "cell_type": "markdown",
      "source": [
        "**A mesma solução lógica em Python**\n"
      ],
      "metadata": {
        "id": "mlOFNS-ZFk4U"
      }
    },
    {
      "cell_type": "code",
      "source": [
        "#python\n",
        "import math\n",
        "\n",
        "class Bhaskara:\n",
        "    def __init__(self, a, b, c):\n",
        "        self.a = a\n",
        "        self.b = b\n",
        "        self.c = c\n",
        "\n",
        "    def calcula_x1(self):\n",
        "        delta = (self.b **2 -4 *  self.a * self.c)\n",
        "        return (-self.b + math.sqrt(delta)) / (2 * self.a)\n",
        "\n",
        "    def calcula_x2(self):\n",
        "        delta = (self.b **2 -4 * self.a  * self.c)\n",
        "        return (-self.b - math.sqrt(delta)) / (2 * self.a)\n",
        "\n",
        "# Executando o código\n",
        "bascara = Bhaskara(2, -5, -7)\n",
        "print(bascara.calcula_x1())\n",
        "print(bascara.calcula_x2())"
      ],
      "metadata": {
        "colab": {
          "base_uri": "https://localhost:8080/"
        },
        "id": "QTJ09KSnF0_b",
        "outputId": "436ccc98-3af1-4236-dbfe-3c5f62cc0ad2"
      },
      "execution_count": null,
      "outputs": [
        {
          "output_type": "stream",
          "name": "stdout",
          "text": [
            "3.5\n",
            "-1.0\n"
          ]
        }
      ]
    },
    {
      "cell_type": "markdown",
      "source": [
        "# O mesmo exemplo foi feito em Java nos slides desta aula, embora não seja impossível implementar um objeto compilador de Java no Google Colab. Veja os exemplos nos slides."
      ],
      "metadata": {
        "id": "Z3qC7zIAtDZ8"
      }
    },
    {
      "cell_type": "code",
      "source": [],
      "metadata": {
        "id": "SMsscz8eweSt"
      },
      "execution_count": null,
      "outputs": []
    },
    {
      "cell_type": "code",
      "source": [],
      "metadata": {
        "id": "dmGjccgLulm0"
      },
      "execution_count": null,
      "outputs": []
    }
  ]
}