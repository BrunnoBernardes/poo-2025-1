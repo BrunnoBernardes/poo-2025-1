{
  "cells": [
    {
      "cell_type": "code",
      "execution_count": null,
      "metadata": {
        "id": "W2DGpkZPwxhS"
      },
      "outputs": [],
      "source": []
    },
    {
      "cell_type": "markdown",
      "metadata": {
        "id": "avGJ318xw8RM"
      },
      "source": [
        "**Um exemplo de código estruurado em C**"
      ]
    },
    {
      "cell_type": "code",
      "execution_count": null,
      "metadata": {
        "colab": {
          "base_uri": "https://localhost:8080/"
        },
        "id": "dgVtL_fwyw_9",
        "outputId": "7fd28662-3325-457a-b1a5-d9a189450e51"
      },
      "outputs": [
        {
          "name": "stdout",
          "output_type": "stream",
          "text": [
            "Reading package lists... Done\n",
            "Building dependency tree... Done\n",
            "Reading state information... Done\n",
            "build-essential is already the newest version (12.9ubuntu3).\n",
            "0 upgraded, 0 newly installed, 0 to remove and 29 not upgraded.\n"
          ]
        }
      ],
      "source": [
        "#python\n",
        "!apt-get install -y build-essential"
      ]
    },
    {
      "cell_type": "code",
      "execution_count": null,
      "metadata": {
        "colab": {
          "base_uri": "https://localhost:8080/"
        },
        "id": "FQy7AU2ExKmS",
        "outputId": "4884ec15-e857-425e-b514-a6f9a5134dd4"
      },
      "outputs": [
        {
          "ename": "SyntaxError",
          "evalue": "invalid syntax (2707024168.py, line 7)",
          "output_type": "error",
          "traceback": [
            "  \u001b[36mCell\u001b[39m\u001b[36m \u001b[39m\u001b[32mIn[6]\u001b[39m\u001b[32m, line 7\u001b[39m\n\u001b[31m    \u001b[39m\u001b[31mint calculaX1(double a, double b, double c) {\u001b[39m\n        ^\n\u001b[31mSyntaxError\u001b[39m\u001b[31m:\u001b[39m invalid syntax\n"
          ]
        }
      ],
      "source": [
        "#python\n",
        "%%writefile bhaskara.c\n",
        "\n",
        "#include <stdio.h>\n",
        "#include <math.h>\n",
        "\n",
        "double calculaX1(double a, double b, double c) {\n",
        "   double delta = (b*b)-4*(a)*(c);\n",
        "   return (-b + sqrt(delta)) / (2*a);\n",
        "}\n",
        "\n",
        "double calculaX2(double a, double b, double c) {\n",
        "   double delta = (b*b)-4*(a)*(c);\n",
        "   return (-b - sqrt(delta)) / (2*a);\n",
        "}\n",
        "\n",
        "int main(int argc, char** argv)  {\n",
        "   double  a, b, c;\n",
        "\n",
        "   printf(\"X1 = %lf\", calculaX1(2, -5, -7));\n",
        "   printf(\"X2 = %lf\", calculaX2(2, -5, -7));\n",
        "   return 0;\n",
        "}\n"
      ]
    },
    {
      "cell_type": "code",
      "execution_count": null,
      "metadata": {
        "id": "ZzarwPG8z28e"
      },
      "outputs": [],
      "source": [
        "#python\n",
        "!gcc bhaskara.c -o bhaskara -lm"
      ]
    },
    {
      "cell_type": "code",
      "execution_count": null,
      "metadata": {
        "colab": {
          "base_uri": "https://localhost:8080/"
        },
        "id": "JM5-FZvG4R1k",
        "outputId": "0f5d97b1-a267-4ce9-b916-a1c36a59140c"
      },
      "outputs": [
        {
          "name": "stdout",
          "output_type": "stream",
          "text": [
            "X1 = 3.500000X2 = -1.000000"
          ]
        }
      ],
      "source": [
        "#python\n",
        "!./bhaskara"
      ]
    },
    {
      "cell_type": "markdown",
      "metadata": {
        "id": "LCi5KzZ9FVRL"
      },
      "source": [
        "# Nova seção"
      ]
    },
    {
      "cell_type": "markdown",
      "metadata": {
        "id": "mlOFNS-ZFk4U"
      },
      "source": [
        "**A mesma solução lógica em Python**\n"
      ]
    },
    {
      "cell_type": "code",
      "execution_count": 8,
      "metadata": {
        "colab": {
          "base_uri": "https://localhost:8080/"
        },
        "id": "QTJ09KSnF0_b",
        "outputId": "436ccc98-3af1-4236-dbfe-3c5f62cc0ad2"
      },
      "outputs": [
        {
          "name": "stdout",
          "output_type": "stream",
          "text": [
            "Aluno: Brunno Cunha Bernardes\n",
            "Matrícula: 202405846\n",
            "3.5\n",
            "-1.0\n"
          ]
        }
      ],
      "source": [
        "#python\n",
        "import math\n",
        "\n",
        "class Bhaskara:\n",
        "    def __init__(self, a, b, c):\n",
        "        self.a = a\n",
        "        self.b = b\n",
        "        self.c = c\n",
        "\n",
        "    def calcula_x1(self):\n",
        "        delta = (self.b **2 -4 *  self.a * self.c)\n",
        "        return (-self.b + math.sqrt(delta)) / (2 * self.a)\n",
        "\n",
        "    def calcula_x2(self):\n",
        "        delta = (self.b **2 -4 * self.a  * self.c)\n",
        "        return (-self.b - math.sqrt(delta)) / (2 * self.a)\n",
        "\n",
        "print(\"Aluno: Brunno Cunha Bernardes\")\n",
        "print(\"Matrícula: 202405846\")\n",
        "\n",
        "# Executando o código\n",
        "bascara = Bhaskara(2, -5, -7)\n",
        "print(bascara.calcula_x1())\n",
        "print(bascara.calcula_x2())"
      ]
    },
    {
      "cell_type": "markdown",
      "metadata": {
        "id": "Z3qC7zIAtDZ8"
      },
      "source": [
        "# O mesmo exemplo foi feito em Java nos slides desta aula, embora não seja impossível implementar um objeto compilador de Java no Google Colab. Veja os exemplos nos slides."
      ]
    },
    {
      "cell_type": "code",
      "execution_count": null,
      "metadata": {
        "id": "SMsscz8eweSt"
      },
      "outputs": [],
      "source": []
    },
    {
      "cell_type": "code",
      "execution_count": null,
      "metadata": {
        "id": "dmGjccgLulm0"
      },
      "outputs": [],
      "source": []
    }
  ],
  "metadata": {
    "colab": {
      "provenance": []
    },
    "kernelspec": {
      "display_name": "Python 3",
      "name": "python3"
    },
    "language_info": {
      "codemirror_mode": {
        "name": "ipython",
        "version": 3
      },
      "file_extension": ".py",
      "mimetype": "text/x-python",
      "name": "python",
      "nbconvert_exporter": "python",
      "pygments_lexer": "ipython3",
      "version": "3.13.2"
    }
  },
  "nbformat": 4,
  "nbformat_minor": 0
}
